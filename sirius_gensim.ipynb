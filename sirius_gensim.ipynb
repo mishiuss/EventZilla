{
 "cells": [
  {
   "cell_type": "code",
   "execution_count": 82,
   "metadata": {},
   "outputs": [],
   "source": [
    "from gensim import corpora, models\n",
    "import codecs, os\n",
    "from smart_open import smart_open\n",
    "import seaborn as sns\n",
    "import matplotlib.pyplot as plt"
   ]
  },
  {
   "cell_type": "code",
   "execution_count": 67,
   "metadata": {},
   "outputs": [
    {
     "name": "stdout",
     "output_type": "stream",
     "text": [
      "736\n"
     ]
    }
   ],
   "source": [
    "f = codecs.open('dict_gensim_736.txt', 'r', 'utf-8')\n",
    "lines = f.readlines()\n",
    "print (len(lines))"
   ]
  },
  {
   "cell_type": "code",
   "execution_count": 68,
   "metadata": {},
   "outputs": [],
   "source": [
    "dictionary = corpora.Dictionary(line.lower().split() for line in smart_open('dict_gensim_736.txt', 'rb'))\n",
    "dictionary.save(os.path.join('dict_736.dict'))  # store the dictionary, for future reference"
   ]
  },
  {
   "cell_type": "code",
   "execution_count": 69,
   "metadata": {},
   "outputs": [],
   "source": [
    "# To actually convert tokenized documents to vectors:\n",
    "corpus = [dictionary.doc2bow(text.split()) for text in lines]\n",
    "corpora.MmCorpus.serialize(os.path.join('corp_736.mm'), corpus)"
   ]
  },
  {
   "cell_type": "code",
   "execution_count": 70,
   "metadata": {},
   "outputs": [
    {
     "name": "stdout",
     "output_type": "stream",
     "text": [
      "MmCorpus(736 documents, 83058 features, 1142418 non-zero entries)\n"
     ]
    }
   ],
   "source": [
    "corp = corpora.MmCorpus(os.path.join('corp_736.mm'))\n",
    "print(corp)"
   ]
  },
  {
   "cell_type": "code",
   "execution_count": 71,
   "metadata": {
    "scrolled": false
   },
   "outputs": [
    {
     "name": "stdout",
     "output_type": "stream",
     "text": [
      "Wall time: 10min 37s\n"
     ]
    }
   ],
   "source": [
    "%time ldamodel = models.ldamodel.LdaModel(corp, id2word=dictionary, num_topics=10, passes=20, alpha=1.25, eta=1.25)"
   ]
  },
  {
   "cell_type": "code",
   "execution_count": 72,
   "metadata": {},
   "outputs": [
    {
     "name": "stdout",
     "output_type": "stream",
     "text": [
      "Topic: 0 \n",
      "Words: ['проект', 'предлагать', 'мероприятие', 'информация', 'центр', 'полезный', 'страница', 'язык', 'история', 'детский', 'российский', 'реклама', 'помогать', 'развитие', 'сайт', 'подписываться', 'школа', 'организация', 'создавать', 'образование', 'правило', 'программа', 'телефон', 'материал', 'сочи', 'официальный', 'бизнес', 'являться', 'фотография', 'игра']\n",
      "Topic: 1 \n",
      "Words: ['молодежка', 'сериал', 'рейтинговый', 'стс', 'концертный', 'исполнять', 'futurehasnomercy', 'поклонник', 'badwaves', 'музыкант', 'интонация', 'гусли', 'наклейка', 'воронов', 'донецк', 'прозвучать', 'гиннесса', 'перец', 'таймслота', 'граммофон', 'провинциальный', 'целеустремленность', 'полтора', 'кумир', 'телепроект', 'label', 'памятный', 'вадим', 'эпизод', 'нрав']\n",
      "Topic: 2 \n",
      "Words: ['информация', 'проект', 'предлагать', 'детский', 'создавать', 'страница', 'мероприятие', 'событие', 'официальный', 'помогать', 'сайт', 'реклама', 'находить', 'школа', 'фотография', 'подписываться', 'развитие', 'центр', 'компания', 'паблик', 'область', 'полезный', 'пост', 'программа', 'материал', 'телефон', 'идея', 'профессиональный', 'цель', 'современный']\n",
      "Topic: 3 \n",
      "Words: ['guest', 'special', 'кандра', 'judge', 'амин', 'workshop', 'kyiv', 'cisco', 'куль', 'танука', 'ukraine', 'аминево', 'сулейманов', 'проводка', 'тск', 'косплей', 'тсн', 'хан', 'чистякова', 'otobe', 'сторигейм', 'fotocon', 'davos', 'wlen', 'comic', 'photographer', 'houston', 'poland', 'кутовать', 'flowvision']\n",
      "Topic: 4 \n",
      "Words: ['огул', 'висцеральный', 'огулов', 'тимофеевич', 'хиропрактика', 'живот', 'огулово', 'огулова', 'предтеча', 'сода', 'самомассаж', 'молодов', 'игропрактика', 'солодилова', 'массаж', 'азбука', 'процессуальный', 'шаманский', 'мила', 'александр', 'картограф', 'юмейхо', 'пчелоужаливание', 'урникис', 'конкурентка', 'мультиспикер', 'габышева', 'гуаша', 'брендодельня', 'контрабанда']\n",
      "Topic: 5 \n",
      "Words: ['сайт', 'проект', 'предлагать', 'материал', 'страница', 'мероприятие', 'находить', 'реклама', 'образование', 'полезный', 'помогать', 'правило', 'развитие', 'создавать', 'детский', 'школа', 'петербург', 'пост', 'история', 'информация', 'подписываться', 'адрес', 'событие', 'рассказывать', 'программа', 'язык', 'участник', 'официальный', 'российский', 'творческий']\n",
      "Topic: 6 \n",
      "Words: ['проект', 'мероприятие', 'информация', 'детский', 'событие', 'материал', 'создавать', 'помогать', 'развитие', 'сайт', 'страница', 'реклама', 'предлагать', 'полезный', 'компания', 'центр', 'современный', 'программа', 'музыка', 'официальный', 'профессиональный', 'язык', 'идея', 'образование', 'находить', 'тема', 'являться', 'пост', 'российский', 'творческий']\n",
      "Topic: 7 \n",
      "Words: ['предлагать', 'детский', 'информация', 'сайт', 'полезный', 'реклама', 'мероприятие', 'создавать', 'заказ', 'страница', 'проект', 'товар', 'помогать', 'находить', 'компания', 'событие', 'услуга', 'телефон', 'фотография', 'адрес', 'центр', 'подписываться', 'идея', 'объявление', 'доставка', 'петербург', 'материал', 'школа', 'родитель', 'занятие']\n",
      "Topic: 8 \n",
      "Words: ['варнава', 'фашистский', 'һәм', 'переформатирование', 'скит', 'сәләт', 'оккупация', 'феодор', 'архимандрит', 'җәйге', 'белән', 'олигархия', 'братия', 'оккупационный', 'люстрация', 'сланцевый', 'алан', 'иеромонах', 'фәнсар', 'төрле', 'студить', 'честертон', 'водонагреватель', 'исаак', 'властный', 'сопротивление', 'котел', 'үткәрелү', 'катнашучылар', 'тапкыр']\n",
      "Topic: 9 \n",
      "Words: ['проект', 'создавать', 'информация', 'страница', 'мероприятие', 'помогать', 'сайт', 'предлагать', 'развитие', 'история', 'центр', 'программа', 'образование', 'материал', 'официальный', 'событие', 'полезный', 'рассказывать', 'школа', 'российский', 'язык', 'паблик', 'находить', 'цель', 'образовательный', 'правило', 'компания', 'являться', 'современный', 'помощь']\n"
     ]
    }
   ],
   "source": [
    "# выводим топы слов\n",
    "for index, topic in ldamodel.show_topics(formatted=False, num_words= 30):\n",
    "    print('Topic: {} \\nWords: {}'.format(index, [w[0] for w in topic]))"
   ]
  },
  {
   "cell_type": "code",
   "execution_count": 73,
   "metadata": {},
   "outputs": [
    {
     "name": "stdout",
     "output_type": "stream",
     "text": [
      "483.5873414216391\n"
     ]
    },
    {
     "data": {
      "text/plain": [
       "1.1753186850941836e+73"
      ]
     },
     "execution_count": 73,
     "metadata": {},
     "output_type": "execute_result"
    }
   ],
   "source": [
    "# Вычисляем логарифм перплексии и немного преобразуем, чтобы привести к общепринятому виду\n",
    "perplexity = ldamodel.log_perplexity(list(corp))\n",
    "print (2**(-perplexity))\n",
    "perp = ldamodel.bound(corp)\n",
    "2**(-perp/float(87409))"
   ]
  },
  {
   "cell_type": "code",
   "execution_count": 75,
   "metadata": {},
   "outputs": [],
   "source": [
    "# Получение распределения тем для конкретного документа\n",
    "doc = list(corp)\n",
    "ldamodel.get_document_topics(doc)\n",
    "num_topics_used = [len(ldamodel[doc]) for doc in corpus]"
   ]
  },
  {
   "cell_type": "code",
   "execution_count": 89,
   "metadata": {
    "scrolled": true
   },
   "outputs": [
    {
     "data": {
      "text/plain": [
       "Text(0.5,1,'Распределение по номерам тем для конкретного пользователя')"
      ]
     },
     "execution_count": 89,
     "metadata": {},
     "output_type": "execute_result"
    },
    {
     "data": {
      "image/png": "[encoded data removed]",
      "text/plain": [
       "<Figure size 432x288 with 1 Axes>"
      ]
     },
     "metadata": {
      "needs_background": "light"
     },
     "output_type": "display_data"
    }
   ],
   "source": [
    "plt.hist(num_topics_used)\n",
    "plt.title('Распределение по номерам тем для конкретного пользователя')"
   ]
  },
  {
   "cell_type": "code",
   "execution_count": null,
   "metadata": {},
   "outputs": [],
   "source": []
  }
 ],
 "metadata": {
  "kernelspec": {
   "display_name": "Python 3",
   "language": "python",
   "name": "python3"
  },
  "language_info": {
   "codemirror_mode": {
    "name": "ipython",
    "version": 3
   },
   "file_extension": ".py",
   "mimetype": "text/x-python",
   "name": "python",
   "nbconvert_exporter": "python",
   "pygments_lexer": "ipython3",
   "version": "3.7.0"
  }
 },
 "nbformat": 4,
 "nbformat_minor": 2
}

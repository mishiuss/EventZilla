{
 "cells": [
  {
   "cell_type": "code",
   "execution_count": 6,
   "metadata": {},
   "outputs": [],
   "source": [
    "from gensim import corpora, models\n",
    "import codecs, os\n",
    "from smart_open import smart_open\n",
    "import seaborn as sns\n",
    "import matplotlib.pyplot as plt"
   ]
  },
  {
   "cell_type": "code",
   "execution_count": 7,
   "metadata": {},
   "outputs": [
    {
     "name": "stdout",
     "output_type": "stream",
     "text": [
      "1999\n"
     ]
    }
   ],
   "source": [
    "################################################################################################################################\n",
    "###### Обработка текстовых данных пользователя ######## \n",
    "f = codecs.open('dict_gensim_all.txt', 'r', 'utf-8')\n",
    "lines = f.readlines()\n",
    "print (len(lines))"
   ]
  },
  {
   "cell_type": "code",
   "execution_count": 8,
   "metadata": {},
   "outputs": [],
   "source": [
    "dictionary = corpora.Dictionary(line.lower().split() for line in smart_open('dict_gensim_all.txt', 'rb'))\n",
    "dictionary.save(os.path.join('dict_gensim_all.dict'))  # store the dictionary, for future reference"
   ]
  },
  {
   "cell_type": "code",
   "execution_count": 9,
   "metadata": {},
   "outputs": [],
   "source": [
    "# To actually convert tokenized documents to vectors:\n",
    "corpus = [dictionary.doc2bow(text.split()) for text in lines]\n",
    "corpora.MmCorpus.serialize(os.path.join('corp_users.mm'), corpus)"
   ]
  },
  {
   "cell_type": "code",
   "execution_count": 10,
   "metadata": {},
   "outputs": [
    {
     "name": "stdout",
     "output_type": "stream",
     "text": [
      "MmCorpus(1999 documents, 44956 features, 501953 non-zero entries)\n"
     ]
    }
   ],
   "source": [
    "corp = corpora.MmCorpus(os.path.join('corp_users.mm'))\n",
    "print(corp)"
   ]
  },
  {
   "cell_type": "code",
   "execution_count": 12,
   "metadata": {
    "scrolled": false
   },
   "outputs": [
    {
     "name": "stdout",
     "output_type": "stream",
     "text": [
      "Wall time: 3min 1s\n"
     ]
    }
   ],
   "source": [
    "# Обучение модели\n",
    "%time ldamodel = models.ldamodel.LdaModel(corp, id2word=dictionary, num_topics=10, passes=10, alpha=1.25, eta=1.25)"
   ]
  },
  {
   "cell_type": "code",
   "execution_count": 13,
   "metadata": {},
   "outputs": [
    {
     "name": "stdout",
     "output_type": "stream",
     "text": [
      "Topic: 0 \n",
      "Words: ['ссылка', 'смс', 'отлично', 'проверять', 'чужой', 'прочитывать', 'просматривать', 'вызов', 'читать', 'телефон', 'звонок', 'мобильный', 'елочка', 'полянка', 'наряжать', 'украшать', 'profix', 'заработок', 'заполярный', 'mtblog', 'momdarinka', 'мандарин', 'кубик', 'ледяной', 'открытка', 'вязанка', 'перо', 'сено', 'серьга', 'привет']\n",
      "Topic: 1 \n",
      "Words: ['ксюха', 'приветик', 'нормальный', 'phoebe', 'привет', 'звонок', 'сайт', 'читать', 'смс', 'вирус', 'номер', 'mнe', 'проверять', 'кomп', 'рабочий', 'единственный', 'армянский', 'точка', 'шпион', 'icq', 'tonkin', 'телефон', 'позволять', 'переписка', 'мишка', 'штука', 'сервис', 'пробел', 'cпam', 'вpemя']\n",
      "Topic: 2 \n",
      "Words: ['свеча', 'резной', 'мастер', 'подарок', 'резныесвеча', 'handmade', 'класс', 'декор', 'заказывать', 'surgut', 'свечиручнойработа', 'находить', 'вощина', 'carvedcandle', 'свечиизвощина', 'семейныйочаг', 'carvedcandles', 'wedding', 'свадебныйдекор', 'свадебныесвеча', 'хмао', 'свечидимси', 'резныесвечисургут', 'нижневартовск', 'бесфильтр', 'резныесвечиназаказ', 'резныесвечивсургут', 'ритуальныесвеча', 'неповторимый', 'серия']\n",
      "Topic: 3 \n",
      "Words: ['палата', 'startdeutsch', 'театр', 'узнавать', 'пенопласт', 'сайт', 'анекдот', 'официальный', 'читать', 'история', 'опера', 'ecoruss', 'люда', 'являться', 'компания', 'российский', 'экскурсия', 'предлагать', 'фабрика', 'футбол', 'немецкий', 'мила', 'чарли', 'валера', 'шоколадный', 'полезный', 'герой', 'vfeed', 'бизнес', 'рыбка']\n",
      "Topic: 4 \n",
      "Words: ['номер', 'написать', 'игра', 'рождение', 'зайти', 'посылать', 'любовь', 'письмо', 'течение', 'построить', 'число', 'шаг', 'зинуля', 'привет', 'читать', 'ожидать', 'желание', 'нажимать', 'происходить', 'выбирать', 'личный', 'добавлять', 'цифра', 'влюбляться', 'kostetskay', 'находить', 'строчка', 'уходить', 'исполняться', 'прочитывать']\n",
      "Topic: 5 \n",
      "Words: ['узнавать', 'помогать', 'рождение', 'ссылка', 'отправлять', 'сайт', 'предлагать', 'игра', 'школа', 'находить', 'материал', 'реклама', 'история', 'открытка', 'подарок', 'мероприятие', 'получать', 'полезный', 'детский', 'привет', 'помощь', 'центр', 'читать', 'язык', 'официальный', 'идея', 'развитие', 'уровень', 'петербург', 'отвечать']\n",
      "Topic: 6 \n",
      "Words: ['открытка', 'картинка', 'lll', 'рождение', 'образование', 'центр', 'цифровой', 'участник', 'поздравлять', 'технология', 'пасха', 'образовательный', 'район', 'отправлять', 'система', 'село', 'христов', 'февраль', 'учреждение', 'победа', 'воскресение', 'академия', 'матричный', 'рождество', 'счастие', 'николай', 'школа', 'святой', 'дополнительный', 'ирина']\n",
      "Topic: 7 \n",
      "Words: ['радио', 'рекорд', 'що', 'ти', 'mix', 'отвечать', 'record', 'узнавать', 'цей', 'як', 'макензі', 'житті', 'був', 'це', 'садиться', 'останнім', 'твоєму', 'ми', 'горячий', 'якби', 'кожный', 'легко', 'обжигать', 'аромат', 'променивать', 'горчинка', 'манящий', 'можный', 'неповторимый', 'черный']\n",
      "Topic: 8 \n",
      "Words: ['fit', 'fitness', 'instatag', 'strong', 'instagramanet', 'мышца', 'instafitness', 'территория', 'heavy', 'flex', 'район', 'спортзал', 'powerful', 'motivation', 'muscles', 'instafit', 'инстатага', 'xiaomi', 'админ', 'наука', 'бодибилдинг', 'пауэрлифтинг', 'powerlifting', 'инстаграманывать', 'stronger', 'дагомыс', 'пресс', 'эмо', 'отварный', 'гутенберг']\n",
      "Topic: 9 \n",
      "Words: ['стоп', 'закуп', 'трикотаж', 'иваново', 'порно', 'сарафан', 'пижама', 'альбом', 'дозаказ', 'плюс', 'заказ', 'твин', 'пикс', 'низкий', 'слесарь', 'дешево', 'находить', 'ассортимент', 'цена', 'платье', 'сервис', 'мифь', 'акционер', 'свами', 'принимать', 'сыроедение', 'вена', 'написать', 'секс', 'cruises']\n"
     ]
    }
   ],
   "source": [
    "# выводим топы слов\n",
    "for index, topic in ldamodel.show_topics(formatted=False, num_words= 30):\n",
    "    print('Topic: {} \\nWords: {}'.format(index, [w[0] for w in topic]))"
   ]
  },
  {
   "cell_type": "code",
   "execution_count": 14,
   "metadata": {},
   "outputs": [
    {
     "name": "stdout",
     "output_type": "stream",
     "text": [
      "494.8233149727314\n"
     ]
    },
    {
     "data": {
      "text/plain": [
       "6.1973785784206185e+22"
      ]
     },
     "execution_count": 14,
     "metadata": {},
     "output_type": "execute_result"
    }
   ],
   "source": [
    "# Вычисляем логарифм перплексии и немного преобразуем, чтобы привести к общепринятому виду\n",
    "perplexity = ldamodel.log_perplexity(list(corp))\n",
    "print (2**(-perplexity))\n",
    "perp = ldamodel.bound(corp)\n",
    "2**(-perp/float(87409))"
   ]
  },
  {
   "cell_type": "code",
   "execution_count": 15,
   "metadata": {},
   "outputs": [],
   "source": [
    "# Получение распределения тем для конкретного документа\n",
    "doc = list(corp)\n",
    "ldamodel.get_document_topics(doc)\n",
    "num_topics_used = [len(ldamodel[doc]) for doc in corpus]"
   ]
  },
  {
   "cell_type": "code",
   "execution_count": 18,
   "metadata": {
    "scrolled": true
   },
   "outputs": [
    {
     "data": {
      "text/plain": [
       "Text(0.5,0,'Число тем')"
      ]
     },
     "execution_count": 18,
     "metadata": {},
     "output_type": "execute_result"
    },
    {
     "data": {
      "image/png": "[encoded data removed]",
      "text/plain": [
       "<Figure size 432x288 with 1 Axes>"
      ]
     },
     "metadata": {
      "needs_background": "light"
     },
     "output_type": "display_data"
    }
   ],
   "source": [
    "plt.hist(num_topics_used)\n",
    "plt.title('Распределение по номерам тем для конкретного пользователя')\n",
    "plt.ylabel('Число документов')\n",
    "plt.xlabel('Число тем')"
   ]
  },
  {
   "cell_type": "code",
   "execution_count": null,
   "metadata": {},
   "outputs": [],
   "source": []
  }
 ],
 "metadata": {
  "kernelspec": {
   "display_name": "Python 3",
   "language": "python",
   "name": "python3"
  },
  "language_info": {
   "codemirror_mode": {
    "name": "ipython",
    "version": 3
   },
   "file_extension": ".py",
   "mimetype": "text/x-python",
   "name": "python",
   "nbconvert_exporter": "python",
   "pygments_lexer": "ipython3",
   "version": "3.7.0"
  }
 },
 "nbformat": 4,
 "nbformat_minor": 2
}
